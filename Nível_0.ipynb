{
  "nbformat": 4,
  "nbformat_minor": 0,
  "metadata": {
    "colab": {
      "name": "Nível 0.ipynb",
      "provenance": [],
      "collapsed_sections": []
    },
    "kernelspec": {
      "name": "python3",
      "display_name": "Python 3"
    },
    "language_info": {
      "name": "python"
    }
  },
  "cells": [
    {
      "cell_type": "code",
      "execution_count": null,
      "metadata": {
        "id": "I43SZORat4Ei"
      },
      "outputs": [],
      "source": [
        "#Hello Python!\n",
        "#Códigos desenvolvidos por: Kinderman\n",
        "\n",
        "print('Hello World')"
      ]
    },
    {
      "cell_type": "code",
      "source": [
        "#Código do Professor\n",
        "a = int(input('Valor de A\\n'))\n",
        "b = int(input('Valor de B\\n')) \n",
        "\n",
        "aux = b\n",
        "b = a\n",
        "a = aux\n",
        "\n",
        "print(a,b)"
      ],
      "metadata": {
        "id": "pSqRgUkr2ULp"
      },
      "execution_count": null,
      "outputs": []
    },
    {
      "cell_type": "code",
      "source": [
        "#Trocar o Valor de Duas Variáveis\n",
        "\n",
        "#Entrada\n",
        "a = float(input('Valor de A\\n'))\n",
        "b = float(input('Valor de B\\n')) \n",
        "\n",
        "#Processamento\n",
        "a = a * b\n",
        "b = a/b\n",
        "a = a/b\n",
        "\n",
        "#Saída\n",
        "print(f'A vale {a} e B vale {b}')"
      ],
      "metadata": {
        "id": "z1MJ3zN3wJyD"
      },
      "execution_count": null,
      "outputs": []
    },
    {
      "cell_type": "code",
      "source": [
        "#O Dobro de Um Número Qualquer\n",
        "n = int(input('Insira um número qualquer:\\n'))\n",
        "\n",
        "d = n * 2\n",
        "\n",
        "print(f'O dobro de {n} é {d}')"
      ],
      "metadata": {
        "id": "domiH_Kzwvw1",
        "colab": {
          "base_uri": "https://localhost:8080/"
        },
        "outputId": "8b811665-22a7-468e-d18e-931e393c6f07"
      },
      "execution_count": null,
      "outputs": [
        {
          "output_type": "stream",
          "name": "stdout",
          "text": [
            "Insira um número qualquer:\n",
            "756757\n",
            "O dobro de 756757 é 1513514\n"
          ]
        }
      ]
    },
    {
      "cell_type": "code",
      "source": [
        "#Área do Quadrado\n",
        "l = float(input('Base:\\n'))\n",
        "\n",
        "a = l**2\n",
        "\n",
        "print(f'A área da figura é {a} metros quadrados')"
      ],
      "metadata": {
        "id": "_P4UW3sB-YOy"
      },
      "execution_count": null,
      "outputs": []
    },
    {
      "cell_type": "code",
      "source": [
        "#Área Quadrada\n",
        "b = float(input('Base:\\n'))\n",
        "h = float(input('Altura\\n'))\n",
        "\n",
        "a = b * h\n",
        "\n",
        "a = \"{:.2f}\".format(a)\n",
        "\n",
        "print(f'A área da figura é {a} metros quadrados')"
      ],
      "metadata": {
        "id": "24woajVFyBF9",
        "colab": {
          "base_uri": "https://localhost:8080/"
        },
        "outputId": "62986d20-6aad-4cbc-e2c7-bf6e0c5c31bb"
      },
      "execution_count": null,
      "outputs": [
        {
          "output_type": "stream",
          "name": "stdout",
          "text": [
            "Base:\n",
            "11.9\n",
            "Altura\n",
            "9.7\n",
            "A área da figura é 115.43 metros quadrados\n"
          ]
        }
      ]
    },
    {
      "cell_type": "code",
      "source": [
        "#Perímetro de um retângulo\n",
        "b = float(input('Base:\\n'))\n",
        "h = float(input('Altura\\n'))\n",
        "\n",
        "a = 2 * b + 2 * h \n",
        "\n",
        "a = \"{:.2f}\".format(a)\n",
        "\n",
        "print(f'O perímetro da figura é {a} metros quadrados')"
      ],
      "metadata": {
        "id": "YjzvDKBuAlLW"
      },
      "execution_count": null,
      "outputs": []
    },
    {
      "cell_type": "code",
      "source": [
        "#Antecessor e sucessor de um número\n",
        "n = int(input('Insira um número:\\n'))\n",
        "\n",
        "a = n - 1\n",
        "s = n + 1\n",
        "\n",
        "print(f'O Sucessor é {s} e o Antecessor é {a}')"
      ],
      "metadata": {
        "id": "CV-IG8oZyvzm"
      },
      "execution_count": null,
      "outputs": []
    },
    {
      "cell_type": "code",
      "source": [
        "#Média Simples de 3 Números\n",
        "n1 = float(input('Insira um número:\\n'))\n",
        "n2 = float(input('Insira um número:\\n'))\n",
        "n3 = float(input('Insira um número:\\n'))\n",
        "\n",
        "m = (n1 + n2 + n3)/3\n",
        "m = \"{:.3f}\".format(m)\n",
        "\n",
        "print(f'A média dos valores {n1}, {n2}, {n3} é igual a {m}')"
      ],
      "metadata": {
        "id": "kO87IGB90G0E"
      },
      "execution_count": null,
      "outputs": []
    },
    {
      "cell_type": "code",
      "source": [
        "#Média Ponderada\n",
        "n1 = float(input('Insira um número:\\n'))\n",
        "p1 = float(input('Insira o peso:\\n'))\n",
        "n2 = float(input('Insira um número:\\n'))\n",
        "p2 = float(input('Insira o peso:\\n'))\n",
        "n3 = float(input('Insira um número:\\n'))\n",
        "p3 = float(input('Insira o peso:\\n'))\n",
        "\n",
        "\n",
        "m = (n1 * p1 + n2 * p2 + n3 * p3)/p1 + p2 + p3\n",
        "m = \"{:.3f}\".format(m)\n",
        "\n",
        "print(f'A média ponderada dos valores {n1}, {n2}, {n3} com os pesos {p1}, {p2}, {p3} é igual a {m}')"
      ],
      "metadata": {
        "colab": {
          "base_uri": "https://localhost:8080/"
        },
        "id": "P5v2sXscFsOc",
        "outputId": "20f641e2-d006-4e71-d79f-c64fbcc1abb3"
      },
      "execution_count": null,
      "outputs": [
        {
          "output_type": "stream",
          "name": "stdout",
          "text": [
            "Insira um número:\n",
            "1\n",
            "Insira o peso:\n",
            "2\n",
            "Insira um número:\n",
            "2\n",
            "Insira o peso:\n",
            "3\n",
            "Insira um número:\n",
            "3\n",
            "Insira o peso:\n",
            "4\n",
            "A média ponderada dos valores 1.0, 2.0, 3.0 com os pesos 2.0, 3.0, 4.0 é igual a 17.000\n"
          ]
        }
      ]
    },
    {
      "cell_type": "code",
      "source": [
        "#Descobrir os dias de N Meses\n",
        "n = int(input('Quantos meses?\\n'))\n",
        "\n",
        "m = n * 30\n",
        "\n",
        "print(f'A quantidade de dias em {n} meses é {m}')"
      ],
      "metadata": {
        "id": "wrghqR2B1F3g",
        "colab": {
          "base_uri": "https://localhost:8080/"
        },
        "outputId": "73ab4299-961b-4e1d-8641-a7b13c262a5f"
      },
      "execution_count": null,
      "outputs": [
        {
          "output_type": "stream",
          "name": "stdout",
          "text": [
            "Quantos meses?\n",
            "10\n",
            "A quantidade de dias em 10 meses é 300\n"
          ]
        }
      ]
    },
    {
      "cell_type": "code",
      "source": [
        "#Descobrir os dias de N anos\n",
        "n = int(input('Quantos anos?\\n'))\n",
        "\n",
        "a = n * 30 * 12\n",
        "\n",
        "\n",
        "print(f'A quantidade de dias em {n} anos é {a}')"
      ],
      "metadata": {
        "colab": {
          "base_uri": "https://localhost:8080/"
        },
        "id": "aKWWntkWJDLd",
        "outputId": "b5de1945-9229-4195-bcc5-3ca90969e390"
      },
      "execution_count": null,
      "outputs": [
        {
          "output_type": "stream",
          "name": "stdout",
          "text": [
            "Quantos anos?\n",
            "1\n",
            "A quantidade de dias em 1 anos é 360\n"
          ]
        }
      ]
    },
    {
      "cell_type": "code",
      "source": [
        "#Descobrir os dias de N anos contando bissextos\n",
        "ano_inicio = int(input(\"Digite o ano: \"))\n",
        "ano_fim = int(input(\"Digite o ano final: \"))\n",
        "\n",
        "contagem = 0\n",
        "\n",
        "for ano in range(ano_inicio, ano_fim + 1):\n",
        "    if ano % 4 == 0:\n",
        "        contagem += 1\n",
        "    \n"
      ],
      "metadata": {
        "id": "uiH8xK-sJyU9"
      },
      "execution_count": null,
      "outputs": []
    },
    {
      "cell_type": "code",
      "source": [
        "#Funções para as 4 operações aritméticas\n",
        "n1 = float(input('Insira o primeiro número:\\n'))\n",
        "n1 = float(input('Insira o segundo número:\\n'))\n",
        "\n",
        "a = n1 + n2\n",
        "s = n1 - n2\n",
        "m = n1 * n2\n",
        "d = n1 / n2\n",
        "\n"
      ],
      "metadata": {
        "id": "fwjjYk6n7g6V"
      },
      "execution_count": null,
      "outputs": []
    }
  ]
}