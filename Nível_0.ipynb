{
  "nbformat": 4,
  "nbformat_minor": 0,
  "metadata": {
    "colab": {
      "name": "Nível 0.ipynb",
      "provenance": [],
      "collapsed_sections": [],
      "authorship_tag": "ABX9TyMah12+QFC2MGBV9q1AiIbP",
      "include_colab_link": true
    },
    "kernelspec": {
      "name": "python3",
      "display_name": "Python 3"
    },
    "language_info": {
      "name": "python"
    }
  },
  "cells": [
    {
      "cell_type": "markdown",
      "metadata": {
        "id": "view-in-github",
        "colab_type": "text"
      },
      "source": [
        "<a href=\"https://colab.research.google.com/github/KindermanBarros/intro-programming/blob/main/N%C3%ADvel_0.ipynb\" target=\"_parent\"><img src=\"https://colab.research.google.com/assets/colab-badge.svg\" alt=\"Open In Colab\"/></a>"
      ]
    },
    {
      "cell_type": "code",
      "execution_count": null,
      "metadata": {
        "id": "I43SZORat4Ei"
      },
      "outputs": [],
      "source": [
        "#Hello Python!\n",
        "#Códigos desenvolvidos por: Kinderman\n",
        "\n",
        "print('Hello World')"
      ]
    },
    {
      "cell_type": "code",
      "source": [
        "#Código do Professor\n",
        "a = int(input('Valor de A\\n'))\n",
        "b = int(input('Valor de B\\n')) \n",
        "\n",
        "aux = b\n",
        "b = a\n",
        "a = aux\n",
        "\n",
        "print(a,b)"
      ],
      "metadata": {
        "id": "pSqRgUkr2ULp"
      },
      "execution_count": null,
      "outputs": []
    },
    {
      "cell_type": "code",
      "source": [
        "#Trocar o Valor de Duas Variáveis\n",
        "\n",
        "#Entrada\n",
        "a = float(input('Valor de A\\n'))\n",
        "b = float(input('Valor de B\\n')) \n",
        "\n",
        "#Processamento\n",
        "a = a * b\n",
        "b = a/b\n",
        "a = a/b\n",
        "\n",
        "#Saída\n",
        "print(f'A vale {a} e B vale {b}')"
      ],
      "metadata": {
        "id": "z1MJ3zN3wJyD"
      },
      "execution_count": null,
      "outputs": []
    },
    {
      "cell_type": "code",
      "source": [
        "#O Dobro de Um Número Qualquer\n",
        "n = float(input('Insira um número qualquer:\\n'))\n",
        "\n",
        "d = n * 2\n",
        "\n",
        "print(f'O dobro de {n} é {d}')"
      ],
      "metadata": {
        "id": "domiH_Kzwvw1"
      },
      "execution_count": null,
      "outputs": []
    },
    {
      "cell_type": "code",
      "source": [
        "#Área Quadrada\n",
        "b = float(input('Base:\\n'))\n",
        "h = float(input('Altura\\n'))\n",
        "\n",
        "a = b * h\n",
        "\n",
        "print(f'A área da figura é {a} metros quadrados')"
      ],
      "metadata": {
        "id": "24woajVFyBF9"
      },
      "execution_count": null,
      "outputs": []
    },
    {
      "cell_type": "code",
      "source": [
        "#Antecessor e sucessor de um número\n",
        "n = int(input('Insira um número:\\n'))\n",
        "\n",
        "a = n - 1\n",
        "s = n + 1\n",
        "\n",
        "print(f'O Sucessor é {s} e o Antecessor é {a}')"
      ],
      "metadata": {
        "id": "CV-IG8oZyvzm"
      },
      "execution_count": null,
      "outputs": []
    },
    {
      "cell_type": "code",
      "source": [
        "#Média Simples de 3 Números\n",
        "n1 = int(input('Insira um número:\\n'))\n",
        "n2 = int(input('Insira um número:\\n'))\n",
        "n3 = int(input('Insira um número:\\n'))\n",
        "\n",
        "m = (n1 + n2 + n3)/3\n",
        "\n",
        "print(f'A média dos valores {n1}, {n2}, {n3} é igual a {m}')"
      ],
      "metadata": {
        "id": "kO87IGB90G0E"
      },
      "execution_count": null,
      "outputs": []
    },
    {
      "cell_type": "code",
      "source": [
        "#Descobrir os dias de N Meses\n",
        "n = int(input('Quantos meses?\\n'))\n",
        "\n",
        "m = n * 30\n",
        "\n",
        "print(f'A quantidade de dias em {n} meses é {m}')"
      ],
      "metadata": {
        "id": "wrghqR2B1F3g"
      },
      "execution_count": null,
      "outputs": []
    }
  ]
}