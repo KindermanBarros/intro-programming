{
  "nbformat": 4,
  "nbformat_minor": 0,
  "metadata": {
    "colab": {
      "name": "Nível 2.ipynb",
      "provenance": [],
      "collapsed_sections": []
    },
    "kernelspec": {
      "name": "python3",
      "display_name": "Python 3"
    },
    "language_info": {
      "name": "python"
    }
  },
  "cells": [
    {
      "cell_type": "code",
      "execution_count": null,
      "metadata": {
        "id": "H-dP-oQqymVD"
      },
      "outputs": [],
      "source": [
        "#Valor par ou ímpar (Professor)\n",
        "n = int(input(\"Digite um número:\\n\"))\n",
        "\n",
        "if n == 0: \n",
        "  print(\"Neutro\")\n",
        "elif n%2 == 0:\n",
        "  print(\"Par\")\n",
        "else:\n",
        "  print(\"Impar\")\n"
      ]
    },
    {
      "cell_type": "code",
      "source": [
        "#Valor par ou ímpar\n",
        "n = int(input(\"Digite um número:\\n\")) \n",
        "\n",
        "if n%2 == 0:\n",
        "  print(\"Par\")\n",
        "else:\n",
        "  print(\"Impar\")\n"
      ],
      "metadata": {
        "id": "xanVppF9HuY3"
      },
      "execution_count": null,
      "outputs": []
    },
    {
      "cell_type": "code",
      "source": [
        "#Valor positivo ou negativo\n",
        "n = float(input(\"Digite um número:\\n\"))\n",
        "\n",
        "if n == 0 :\n",
        "     print('O número é neutro')\n",
        "\n",
        "elif n > 0:\n",
        "    print('O número é positivo')\n",
        "\n",
        "else:\n",
        "     print('O número é negativo')\n"
      ],
      "metadata": {
        "id": "Wp_0aK2RzB-T",
        "colab": {
          "base_uri": "https://localhost:8080/"
        },
        "outputId": "875c191a-3f51-481f-d7ce-bfb49bdf8d0f"
      },
      "execution_count": null,
      "outputs": [
        {
          "output_type": "stream",
          "name": "stdout",
          "text": [
            "Digite um número:\n",
            "0\n",
            "O número é neutro\n"
          ]
        }
      ]
    },
    {
      "cell_type": "code",
      "source": [
        "#Maior que 10\n",
        "\n",
        "def MaiorQue10(valorQualquer):\n",
        "    if valorQualquer > 10:\n",
        "      resultado = \"É maior que 10\"\n",
        "    elif valorQualquer < 10:\n",
        "      resultado = \"É menor que 10\"\n",
        "    else:\n",
        "      resultado = \"É 10\"\n",
        "    return resultado\n",
        "\n",
        "MaiorQue10(float(input('Insira um número:\\n')))"
      ],
      "metadata": {
        "id": "rRy74kqnzFRw",
        "colab": {
          "base_uri": "https://localhost:8080/",
          "height": 72
        },
        "outputId": "5c324f32-3b6b-4b31-cac2-9f0a3bcdc3b0"
      },
      "execution_count": null,
      "outputs": [
        {
          "name": "stdout",
          "output_type": "stream",
          "text": [
            "Insira um número:\n",
            "12\n"
          ]
        },
        {
          "output_type": "execute_result",
          "data": {
            "text/plain": [
              "'É maior que 10'"
            ],
            "application/vnd.google.colaboratory.intrinsic+json": {
              "type": "string"
            }
          },
          "metadata": {},
          "execution_count": 2
        }
      ]
    },
    {
      "cell_type": "code",
      "source": [
        "#Conversor Celsius/Fahrenheit\n",
        "c = float(input('Insira um número:\\n'))\n",
        "a = float(input(\"Insira um número:\"))\n",
        "b = (a - 32) * 5/9\n",
        "\n",
        "f = (c * 9/5) + 32\n",
        "\n",
        "print(f'O calor é de {f} F')\n",
        "print(f'O calor é de {b} C')"
      ],
      "metadata": {
        "id": "38kr4VflzGTV",
        "colab": {
          "base_uri": "https://localhost:8080/"
        },
        "outputId": "f1eb5c58-b678-4055-a7f5-a1752612dcd0"
      },
      "execution_count": null,
      "outputs": [
        {
          "output_type": "stream",
          "name": "stdout",
          "text": [
            "Insira um número:\n",
            "1\n",
            "Insira um número:32\n",
            "O calor é de 33.8 F\n",
            "O calor é de 0.0 C\n"
          ]
        }
      ]
    },
    {
      "cell_type": "code",
      "source": [
        "#Equação de Segundo grau\n",
        "import math\n",
        "a = float(input(\"Insira valor de A\"))\n",
        "b = float(input(\"Insira o valor de B\"))\n",
        "c = float(input(\"Insira o valor de C\")) \n",
        "delta = b**2 - 4*a*c\n",
        "sqrtDelta = math.sqrt(delta)\n",
        "x1 = (-b + sqrtDelta)/2*a\n",
        "x2 = (-b - sqrtDelta)/2*a\n",
        "e = a * x1**2 + b * x2 + c\n",
        "\n",
        "print(x1)\n",
        "print(x2)\n",
        "print(delta)\n",
        "print(e)"
      ],
      "metadata": {
        "colab": {
          "base_uri": "https://localhost:8080/"
        },
        "id": "OrWop4PJxSwH",
        "outputId": "cdfc7973-0701-48ad-b707-b535cc67f102"
      },
      "execution_count": null,
      "outputs": [
        {
          "output_type": "stream",
          "name": "stdout",
          "text": [
            "Insira valor de A1\n",
            "Insira o valor de B0\n",
            "Insira o valor de C-16\n",
            "4.0\n",
            "-4.0\n",
            "64.0\n",
            "0.0\n"
          ]
        }
      ]
    },
    {
      "cell_type": "code",
      "source": [
        ""
      ],
      "metadata": {
        "id": "v7KmF_sTzR4q"
      },
      "execution_count": null,
      "outputs": []
    },
    {
      "cell_type": "code",
      "source": [
        "#Pedra, Papel e Tesoura\n",
        "\n",
        "#Entrada do movimento do jogador.\n",
        "j1 = int(input(\"Player 1, insira sua jogada\\n1.Pedra\\n2.Papel\\n3.Tesoura\\n\"))\n",
        "j2 = int(input(\"Player 2, insira sua jogada\\n1.Pedra\\n2.Papel\\n3.Tesoura\\n\"))\n",
        "\n",
        "#Essa função imprime o valor inserido pelos jogadores.\n",
        "def jogada():\n",
        "  if True:\n",
        "    if j1 == 1:\n",
        "      print(\"A jogada escolhida pelo Player 1 foi Pedra.\")\n",
        "    elif j1 == 2:\n",
        "      print(\"A jogada escolhida pelo Player 1 foi Papel.\")\n",
        "    elif j1 == 3:\n",
        "      print(\"A jogada escolhida pelo Player 1 foi Tesoura.\")\n",
        "    if j2 == 1:\n",
        "      print(\"A jogada escolhida pelo Player 2 foi Pedra.\")\n",
        "    elif j2 == 2:\n",
        "      print(\"A jogada escolhida pelo Player 2 foi Papel.\")\n",
        "    elif j2 == 3:\n",
        "      print(\"A jogada escolhida pelo Player 2 foi Tesoura.\")\n",
        "    \n",
        "#Essa função avalia o resultado das jogadas imprimindo o vencedor.\n",
        "def vencedor():\n",
        "    if j1 == j2: \n",
        "      print(\"Empate\")\n",
        "    elif j1 == 1 and j2 == 2:\n",
        "      print(\"Player 2 ganhou!\")\n",
        "    elif j1 == 2 and j2 == 1:\n",
        "      print(\"Player 1 ganhou!\")\n",
        "    elif j1 == 1 and j2 == 3:\n",
        "      print(\"Player 1 ganhou!\")\n",
        "    elif j1 == 3 and j2 == 1:\n",
        "      print(\"Player 2 ganhou!\")\n",
        "    elif j1 == 3 and j2 == 2:\n",
        "      print(\"Player 1 ganhou!\")\n",
        "    elif j1 == 2 and j2 == 3:\n",
        "      print(\"Player 2 ganhou!\")\n",
        "    else:\n",
        "      print(\"O resultado é inválido\")\n",
        "    \n",
        "\n",
        "\n",
        "#Expressão avalia se o valor está condizendo com a lista, invalidando jogadas impossíveis.\n",
        "if j1 > 3 or j1 < 1 or j2 > 3 or j2 < 1:\n",
        "  print(\"O resultado é inválido\")\n",
        "#Se jogada for possível chama as funções para os jogadores.\n",
        "else:\n",
        "  jogada()\n",
        "  vencedor()"
      ],
      "metadata": {
        "id": "7Lgu4wQjNcqq",
        "colab": {
          "base_uri": "https://localhost:8080/"
        },
        "outputId": "463faac1-65e1-4525-fad8-b1354f07ebc6"
      },
      "execution_count": null,
      "outputs": [
        {
          "output_type": "stream",
          "name": "stdout",
          "text": [
            "Player 1, insira sua jogada\n",
            "1.Pedra\n",
            "2.Papel\n",
            "3.Tesoura\n",
            "1\n",
            "Player 2, insira sua jogada\n",
            "1.Pedra\n",
            "2.Papel\n",
            "3.Tesoura\n",
            "2\n",
            "A jogada escolhida pelo Player 1 foi Pedra.\n",
            "A jogada escolhida pelo Player 2 foi Papel.\n",
            "Player 2 ganhou!\n"
          ]
        }
      ]
    },
    {
      "cell_type": "code",
      "source": [
        "#Equação de 2 grau\n",
        " "
      ],
      "metadata": {
        "id": "CzsbwXynzHXw"
      },
      "execution_count": null,
      "outputs": []
    }
  ]
}