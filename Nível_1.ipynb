{
  "nbformat": 4,
  "nbformat_minor": 0,
  "metadata": {
    "colab": {
      "name": "Nível 1.ipynb",
      "provenance": [],
      "collapsed_sections": []
    },
    "kernelspec": {
      "name": "python3",
      "display_name": "Python 3"
    },
    "language_info": {
      "name": "python"
    }
  },
  "cells": [
    {
      "cell_type": "code",
      "execution_count": null,
      "metadata": {
        "id": "IwZOiMEho4Ip"
      },
      "outputs": [],
      "source": [
        "#Funções para as 4 operações aritméticas\n",
        "n1 = float(input(\"Digite o primeiro número\\n\"))\n",
        "n2 = float(input(\"Digite o segundo número\\n\"))\n",
        "a = n1 + n2\n",
        "\n",
        "if n1>n2:\n",
        "  s = n1 - n2\n",
        "else:\n",
        "  s = n2 - n1\n",
        "  \n",
        "m = n1 * n2\n",
        "d = n1 / n2\n",
        "\n",
        "print(f'Para {n1} e {n2}, sua adição é {a}, sua subtração é {s}, sua multiplição é {round(m,2)} e sua divisão é {round(d,2)}')"
      ]
    },
    {
      "cell_type": "code",
      "source": [
        "#Funções para as 6 operações aritméticas\n",
        "import math\n",
        "\n",
        "n1 = float(input(\"Digite o primeiro número\\n\"))\n",
        "n2 = float(input(\"Digite o segundo número\\n\"))\n",
        "\n",
        "a = n1 + n2\n",
        "s = n1 - n2\n",
        "m = n1 * n2\n",
        "d = round(n1 / n2, 2)\n",
        "p = round(n1 ** n2, 2)\n",
        "r1 = round(math.sqrt(n1),2)\n",
        "r2 = round(math.sqrt(n2), 2)\n",
        "\n",
        "\n",
        "print(f'Para {n1} e {n2}, sua adição é {a}, sua subtração é {s}, sua multiplição é {m}, sua divisão é {d}, sua potencia é {p} e suas raizes respectivas são {r1} e {r2}.')"
      ],
      "metadata": {
        "id": "fWscqneIs0Lj"
      },
      "execution_count": null,
      "outputs": []
    },
    {
      "cell_type": "code",
      "source": [
        "#Custo de fabricação de um carro\n",
        "cfab = float(input(\"Insira o custo de fabricação:\\n\"))\n",
        "pdist = float(input(\"Insira o preço de distribuição:\\n\"))\n",
        "\n",
        "pdist = pdist/100\n",
        "pimp = float(input(\"Insira o preço de importação:\\n\"))\n",
        "pimp = pimp/100\n",
        "cfin = cfab + (cfab * pdist)+(cfab*pimp)\n",
        "print(cfin)\n"
      ],
      "metadata": {
        "id": "yLEK13nHEZ4l"
      },
      "execution_count": null,
      "outputs": []
    },
    {
      "cell_type": "code",
      "source": [
        "#Juros simples\n",
        "c = float(input(\"Insira o capital:\\n\"))\n",
        "i = float(input(\"Insira o taxa de emprestimo:\\n\"))/100\n",
        "n = float(input(\"Insira o período em mese:s\\n\"))\n",
        "\n",
        "j = c * i *n\n",
        "print(j)\n"
      ],
      "metadata": {
        "id": "a5j2cnbVEYXt"
      },
      "execution_count": null,
      "outputs": []
    },
    {
      "cell_type": "code",
      "source": [
        "#Reajustando o salário\n",
        "s = float(input(\"Qual seu salário:\\n\"))\n",
        "r = int(input(\"Qual a taxa de reajuste:\\n\"))/100\n",
        "\n",
        "novo_salário = s*r+s\n",
        "\n",
        "print(f\"O novo salário é R${novo_salário}\")\n",
        "\n",
        "\n",
        "\n",
        "\n"
      ],
      "metadata": {
        "id": "oK58YG2JEXAb",
        "colab": {
          "base_uri": "https://localhost:8080/"
        },
        "outputId": "daa66d83-52a1-4b86-c465-31e9cba8be28"
      },
      "execution_count": null,
      "outputs": [
        {
          "output_type": "stream",
          "name": "stdout",
          "text": [
            "Qual seu salário:\n",
            "2000\n",
            "Qual a taxa de reajuste:\n",
            "15\n",
            "O novo salário é R$2300.0\n"
          ]
        }
      ]
    }
  ]
}